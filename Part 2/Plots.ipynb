{
 "cells": [
  {
   "cell_type": "code",
   "execution_count": 4,
   "id": "bea95ee8-5ad3-472d-9516-be24f13a3d52",
   "metadata": {},
   "outputs": [
    {
     "name": "stdout",
     "output_type": "stream",
     "text": [
      "SocialMediaAvg.csv has been created successfully!\n"
     ]
    }
   ],
   "source": [
    "import pandas as pd\n",
    "\n",
    "# Load the data\n",
    "df = pd.read_csv(\"socialMedia.csv\")\n",
    "\n",
    "# Convert Likes column to numeric\n",
    "df[\"Likes\"] = pd.to_numeric(df[\"Likes\"], errors=\"coerce\")\n",
    "\n",
    "# Group by Platform and PostType, then calculate the average Likes\n",
    "avg_likes = df.groupby([\"Platform\", \"PostType\"])[\"Likes\"].mean().reset_index()\n",
    "\n",
    "# Round to 2 decimal places\n",
    "avg_likes[\"Likes\"] = avg_likes[\"Likes\"].round(2)\n",
    "\n",
    "# Rename columns as required\n",
    "avg_likes.rename(columns={\"Likes\": \"AvgLikes\"}, inplace=True)\n",
    "\n",
    "# Save to CSV\n",
    "avg_likes.to_csv(\"SocialMediaAvg.csv\", index=False)\n",
    "\n",
    "print(\"SocialMediaAvg.csv has been created successfully!\")\n"
   ]
  },
  {
   "cell_type": "code",
   "execution_count": 16,
   "id": "d69d9317-33af-4a60-a08e-65a4173de4da",
   "metadata": {},
   "outputs": [
    {
     "name": "stdout",
     "output_type": "stream",
     "text": [
      "Data saved to /Users/nihitakasibhatla/Desktop/DS 4200/D3 Basic Plots/SocialMediaTime.csv\n"
     ]
    }
   ],
   "source": [
    "import pandas as pd\n",
    "\n",
    "def summarize_likes_by_date(input_file_path, output_file_path):\n",
    "    # Load the original dataset\n",
    "    data = pd.read_csv(input_file_path)\n",
    "    \n",
    "    # Ensure 'Post Timestamp' is a datetime type for accurate processing\n",
    "    data['Post Timestamp'] = pd.to_datetime(data['Post Timestamp'])\n",
    "    \n",
    "    # Extract date from datetime\n",
    "    data['Date'] = data['Post Timestamp'].dt.date\n",
    "    \n",
    "    # Group by 'Date' and calculate the average 'Likes'\n",
    "    avg_likes_by_date = data.groupby('Date')['Likes'].mean().reset_index()\n",
    "    avg_likes_by_date.columns = ['Date', 'AvgLikes']\n",
    "    \n",
    "    # Save the processed data to a CSV file\n",
    "    avg_likes_by_date.to_csv(output_file_path, index=False)\n",
    "    \n",
    "    print(f'Data saved to {output_file_path}')\n",
    "\n",
    "# File paths\n",
    "input_file = '/Users/nihitakasibhatla/Desktop/DS 4200/D3 Basic Plots/socialMedia.csv'\n",
    "output_file = '/Users/nihitakasibhatla/Desktop/DS 4200/D3 Basic Plots/SocialMediaTime.csv'\n",
    "\n",
    "# Summarize and save the data\n",
    "summarize_likes_by_date(input_file, output_file)\n"
   ]
  },
  {
   "cell_type": "code",
   "execution_count": null,
   "id": "5d2c1c6b-7ef2-4c91-96b7-cb0e41b120f7",
   "metadata": {},
   "outputs": [],
   "source": []
  }
 ],
 "metadata": {
  "kernelspec": {
   "display_name": "Python [conda env:base] *",
   "language": "python",
   "name": "conda-base-py"
  },
  "language_info": {
   "codemirror_mode": {
    "name": "ipython",
    "version": 3
   },
   "file_extension": ".py",
   "mimetype": "text/x-python",
   "name": "python",
   "nbconvert_exporter": "python",
   "pygments_lexer": "ipython3",
   "version": "3.12.7"
  }
 },
 "nbformat": 4,
 "nbformat_minor": 5
}
